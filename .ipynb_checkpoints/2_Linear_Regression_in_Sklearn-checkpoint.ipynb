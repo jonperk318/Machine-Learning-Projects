{
 "cells": [
  {
   "cell_type": "markdown",
   "id": "4d0b9933-802e-468f-8eca-298f52fad51d",
   "metadata": {},
   "source": [
    "# Homework 2\n",
    "# PH 418\n",
    "# Jonathan Perkins\n",
    "# 2/20/2024"
   ]
  },
  {
   "cell_type": "markdown",
   "id": "352e826c-d794-44ca-9bf9-b41f3fb283f3",
   "metadata": {},
   "source": [
    "# Imports"
   ]
  },
  {
   "cell_type": "code",
   "execution_count": 9,
   "id": "ddc4bdcb-2a05-46a3-84ed-df6374abbd56",
   "metadata": {},
   "outputs": [],
   "source": [
    "from sklearn.datasets import fetch_california_housing\n",
    "from sklearn.model_selection import train_test_split\n",
    "import matplotlib.pyplot as plt"
   ]
  },
  {
   "cell_type": "markdown",
   "id": "c8a3e54c-0c52-4670-9853-c87b72862628",
   "metadata": {},
   "source": [
    "# a) Reading data"
   ]
  },
  {
   "cell_type": "code",
   "execution_count": 3,
   "id": "66494895-01d8-4f1d-aeb1-9c3ab6abad25",
   "metadata": {},
   "outputs": [],
   "source": [
    "housing = fetch_california_housing()"
   ]
  },
  {
   "cell_type": "code",
   "execution_count": 6,
   "id": "5c5f9bdd-854d-40b4-b88c-b79cd952f7c4",
   "metadata": {},
   "outputs": [
    {
     "name": "stdout",
     "output_type": "stream",
     "text": [
      "(20640, 8) \n",
      "\n",
      "[   8.3252       41.            6.98412698    1.02380952  322.\n",
      "    2.55555556   37.88       -122.23      ] \n",
      "\n",
      "['MedInc', 'HouseAge', 'AveRooms', 'AveBedrms', 'Population', 'AveOccup', 'Latitude', 'Longitude']\n"
     ]
    }
   ],
   "source": [
    "# Feature matrix\n",
    "X = housing.data\n",
    "print(X.shape,'\\n') # 20640 samples, 8 features\n",
    "\n",
    "# Feature values of the first sample\n",
    "print(X[0,:],'\\n')\n",
    "\n",
    "# Column (feature) names\n",
    "print(housing.feature_names)"
   ]
  },
  {
   "cell_type": "code",
   "execution_count": 8,
   "id": "e6e7fb20-bc99-4a1b-852a-39961ffc7f6a",
   "metadata": {
    "scrolled": true
   },
   "outputs": [
    {
     "name": "stdout",
     "output_type": "stream",
     "text": [
      "(20640,) \n",
      "\n",
      "[4.526 3.585 3.521 3.413 3.422 2.697 2.992 2.414 2.267 2.611] \n",
      "\n",
      "['MedHouseVal']\n"
     ]
    },
    {
     "data": {
      "image/png": "[encoded data removed]",
      "text/plain": [
       "<Figure size 400x200 with 1 Axes>"
      ]
     },
     "metadata": {},
     "output_type": "display_data"
    }
   ],
   "source": [
    "# Target matrix (np array with housing values in units of $100,000)\n",
    "y = housing.target\n",
    "print(y.shape,'\\n')\n",
    "\n",
    "print(y[0:10],'\\n')\n",
    "\n",
    "# Examining the target data distribution:\n",
    "fig, ax = plt.subplots(figsize=(4,2))\n",
    "ax.hist(y)\n",
    "\n",
    "# names of target classes.\n",
    "print(housing.target_names)"
   ]
  },
  {
   "cell_type": "code",
   "execution_count": 12,
   "id": "e46086a6-abc0-4aeb-b373-515cb346ba32",
   "metadata": {},
   "outputs": [
    {
     "name": "stdout",
     "output_type": "stream",
     "text": [
      "(15480, 8) (5160, 8) \n",
      "\n",
      "(15480,) (5160,)\n"
     ]
    }
   ],
   "source": [
    "# train_test_split(*arrays, test_size=None, train_size=None,\\\n",
    "# random_state=None, shuffle=True, stratify=None)\n",
    "# Note: test_size and train_size is between 0.0 to 1.0.\n",
    "# If None is specified, test_size = 0.25 and train_size = 1- test_size = 0.75.\n",
    "\n",
    "X_train, X_test, y_train, y_test = train_test_split (X, y, random_state = 1, shuffle = True)\n",
    "\n",
    "print(X_train.shape, X_test.shape,'\\n')\n",
    "print(y_train.shape, y_test.shape)\n",
    "\n",
    "#Afterwards, one can fit the model with the training set (X_train, y_train),\n",
    "#and make predictions with the test set (X_test, y_test) for evaluation."
   ]
  },
  {
   "cell_type": "markdown",
   "id": "fcb3d351-6086-4fcc-bc6f-2ada651c4146",
   "metadata": {},
   "source": [
    "# b)"
   ]
  }
 ],
 "metadata": {
  "kernelspec": {
   "display_name": "Python 3 (ipykernel)",
   "language": "python",
   "name": "python3"
  },
  "language_info": {
   "codemirror_mode": {
    "name": "ipython",
    "version": 3
   },
   "file_extension": ".py",
   "mimetype": "text/x-python",
   "name": "python",
   "nbconvert_exporter": "python",
   "pygments_lexer": "ipython3",
   "version": "3.9.18"
  }
 },
 "nbformat": 4,
 "nbformat_minor": 5
}
