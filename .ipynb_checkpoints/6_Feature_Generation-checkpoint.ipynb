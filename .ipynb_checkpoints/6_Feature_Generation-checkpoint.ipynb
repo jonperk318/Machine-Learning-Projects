{
 "cells": [
  {
   "cell_type": "markdown",
   "id": "0a590191-8fce-494b-bac1-9382c792d6ea",
   "metadata": {},
   "source": [
    "## Jonathan Perkins\n",
    "## 4/18/2024\n",
    "## PH 418\n",
    "## HW 6"
   ]
  },
  {
   "cell_type": "markdown",
   "id": "688ba38b-fc8a-4745-9ae8-e35b1cc9f7a5",
   "metadata": {},
   "source": [
    "# Feature Generation"
   ]
  },
  {
   "cell_type": "markdown",
   "id": "bd8a7e57-7b61-4122-8586-46e1b9761f86",
   "metadata": {},
   "source": [
    "We will create machine learning models to predict material properties solely based on their\n",
    "chemical compositions. The first step is to create input features (or descriptors or attributes).\n",
    "We will follow the paper by Ward et al. in npj Computational Materials (2016) 2, 16028.\n",
    "The features are designed to enable machine learning algorithms to construct general rules\n",
    "that can possibly learn and reflect to some extent physical and chemical intuitions.\n",
    "Please write a python function with a single string variable of chemical formula (such as\n",
    "‘Fe2O3’) as the input argument. Upon completion, the function will return a list containing\n",
    "the following 60 features (floating point or integer values)"
   ]
  },
  {
   "cell_type": "markdown",
   "id": "4850f655-216b-4ebf-9457-49594571c957",
   "metadata": {},
   "source": [
    "# Imports"
   ]
  }
 ],
 "metadata": {
  "kernelspec": {
   "display_name": "Python 3 (ipykernel)",
   "language": "python",
   "name": "python3"
  },
  "language_info": {
   "codemirror_mode": {
    "name": "ipython",
    "version": 3
   },
   "file_extension": ".py",
   "mimetype": "text/x-python",
   "name": "python",
   "nbconvert_exporter": "python",
   "pygments_lexer": "ipython3",
   "version": "3.9.6"
  }
 },
 "nbformat": 4,
 "nbformat_minor": 5
}
