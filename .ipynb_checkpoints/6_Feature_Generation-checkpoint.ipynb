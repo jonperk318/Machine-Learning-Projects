{
 "cells": [
  {
   "cell_type": "markdown",
   "id": "0a590191-8fce-494b-bac1-9382c792d6ea",
   "metadata": {},
   "source": [
    "## Jonathan Perkins\n",
    "## 4/18/2024\n",
    "## PH 418\n",
    "## HW 6"
   ]
  },
  {
   "cell_type": "markdown",
   "id": "688ba38b-fc8a-4745-9ae8-e35b1cc9f7a5",
   "metadata": {},
   "source": [
    "# Feature Generation"
   ]
  },
  {
   "cell_type": "markdown",
   "id": "bd8a7e57-7b61-4122-8586-46e1b9761f86",
   "metadata": {},
   "source": [
    "We will create machine learning models to predict material properties solely based on their\n",
    "chemical compositions. The first step is to create input features (or descriptors or attributes).\n",
    "We will follow the paper by Ward et al. in npj Computational Materials (2016) 2, 16028.\n",
    "The features are designed to enable machine learning algorithms to construct general rules\n",
    "that can possibly learn and reflect to some extent physical and chemical intuitions.\n",
    "Please write a python function with a single string variable of chemical formula (such as\n",
    "‘Fe2O3’) as the input argument. Upon completion, the function will return a list containing\n",
    "the following 60 features (floating point or integer values)"
   ]
  },
  {
   "cell_type": "markdown",
   "id": "4850f655-216b-4ebf-9457-49594571c957",
   "metadata": {},
   "source": [
    "# Imports"
   ]
  },
  {
   "cell_type": "code",
   "execution_count": 2,
   "id": "7ac9f852-75b1-4921-b6e9-0b1a47a0c9fb",
   "metadata": {},
   "outputs": [
    {
     "ename": "ModuleNotFoundError",
     "evalue": "No module named 'pymatgen'",
     "output_type": "error",
     "traceback": [
      "\u001b[0;31m---------------------------------------------------------------------------\u001b[0m",
      "\u001b[0;31mModuleNotFoundError\u001b[0m                       Traceback (most recent call last)",
      "Cell \u001b[0;32mIn[2], line 1\u001b[0m\n\u001b[0;32m----> 1\u001b[0m \u001b[38;5;28;01mimport\u001b[39;00m \u001b[38;5;21;01mpymatgen\u001b[39;00m\u001b[38;5;21;01m.\u001b[39;00m\u001b[38;5;21;01mcore\u001b[39;00m \u001b[38;5;28;01mas\u001b[39;00m \u001b[38;5;21;01mpmg\u001b[39;00m\n\u001b[1;32m      2\u001b[0m \u001b[38;5;28;01mimport\u001b[39;00m \u001b[38;5;21;01mnumpy\u001b[39;00m \u001b[38;5;28;01mas\u001b[39;00m \u001b[38;5;21;01mnp\u001b[39;00m\n\u001b[1;32m      3\u001b[0m \u001b[38;5;28;01mimport\u001b[39;00m \u001b[38;5;21;01mmatplotlib\u001b[39;00m\u001b[38;5;21;01m.\u001b[39;00m\u001b[38;5;21;01mpyplot\u001b[39;00m \u001b[38;5;28;01mas\u001b[39;00m \u001b[38;5;21;01mplt\u001b[39;00m\n",
      "\u001b[0;31mModuleNotFoundError\u001b[0m: No module named 'pymatgen'"
     ]
    }
   ],
   "source": [
    "import pymatgen.core as pmg\n",
    "import numpy as np\n",
    "import matplotlib.pyplot as plt"
   ]
  },
  {
   "cell_type": "code",
   "execution_count": 3,
   "id": "d23c6fc2-77f8-4852-b467-04565c172d76",
   "metadata": {},
   "outputs": [],
   "source": [
    "def find_features(formula):\n",
    "\n",
    "  # Uses all functions defined below to return a list of all 60 features\n",
    "\n",
    "  features_list = []\n",
    "\n",
    "  features_list.append(find_stoich(formula))\n",
    "    \n",
    "  return features_list"
   ]
  },
  {
   "cell_type": "code",
   "execution_count": 5,
   "id": "8e72d959-0a7b-4e8f-8fec-776afe799875",
   "metadata": {},
   "outputs": [],
   "source": [
    "def find_stoich(formula):\n",
    "\n",
    "  # Returns a list with P0, P2, and P3 norms\n",
    "\n",
    "  attributes_list = []\n",
    "\n",
    "  comp = pmg.Composition(formula)\n",
    "  num_elms = len(comp.elements)\n",
    "  attributes_list.append(num_elms) # P0 norm is number of elements\n",
    "\n",
    "  atom_frac_p2 = 0\n",
    "  atom_frac_p3 = 0\n",
    "  denom = 0\n",
    "\n",
    "  for i in range(num_elms): # First, find denominator value\n",
    "    num = comp[comp.elements[i-1]]\n",
    "    denom += num\n",
    "\n",
    "  for i in range(num_elms): # Then, calculate P2 and P3 norms\n",
    "    num = comp[comp.elements[i-1]]\n",
    "    atom_frac_p2 += (num/denom)**2\n",
    "    atom_frac_p3 += (num/denom)**3\n",
    "  \n",
    "  atom_frac_p2 = atom_frac_p2**(1/2)\n",
    "  atom_frac_p3 = atom_frac_p3**(1/3)\n",
    "\n",
    "  attributes_list.append(atom_frac_p2)\n",
    "  attributes_list.append(atom_frac_p3)\n",
    "\n",
    "  return attributes_list"
   ]
  },
  {
   "cell_type": "code",
   "execution_count": 6,
   "id": "6a805f27-6fcc-44b3-9a2c-5ee29a63a73e",
   "metadata": {},
   "outputs": [
    {
     "ename": "NameError",
     "evalue": "name 'pmg' is not defined",
     "output_type": "error",
     "traceback": [
      "\u001b[0;31m---------------------------------------------------------------------------\u001b[0m",
      "\u001b[0;31mNameError\u001b[0m                                 Traceback (most recent call last)",
      "Cell \u001b[0;32mIn[6], line 1\u001b[0m\n\u001b[0;32m----> 1\u001b[0m iron_oxide \u001b[38;5;241m=\u001b[39m \u001b[43mfind_features\u001b[49m\u001b[43m(\u001b[49m\u001b[38;5;124;43m'\u001b[39;49m\u001b[38;5;124;43mFe2O3\u001b[39;49m\u001b[38;5;124;43m'\u001b[39;49m\u001b[43m)\u001b[49m\n\u001b[1;32m      2\u001b[0m strontium_tin_oxide \u001b[38;5;241m=\u001b[39m find_features(\u001b[38;5;124m'\u001b[39m\u001b[38;5;124mSrTiO3\u001b[39m\u001b[38;5;124m'\u001b[39m)\n\u001b[1;32m      4\u001b[0m \u001b[38;5;28mprint\u001b[39m(iron_oxide)\n",
      "Cell \u001b[0;32mIn[4], line 7\u001b[0m, in \u001b[0;36mfind_features\u001b[0;34m(formula)\u001b[0m\n\u001b[1;32m      1\u001b[0m \u001b[38;5;28;01mdef\u001b[39;00m \u001b[38;5;21mfind_features\u001b[39m(formula):\n\u001b[1;32m      2\u001b[0m \n\u001b[1;32m      3\u001b[0m   \u001b[38;5;66;03m# Uses all functions defined below to return a list of all 60 features\u001b[39;00m\n\u001b[1;32m      5\u001b[0m   features_list \u001b[38;5;241m=\u001b[39m []\n\u001b[0;32m----> 7\u001b[0m   features_list\u001b[38;5;241m.\u001b[39mappend(\u001b[43mfind_stoich\u001b[49m\u001b[43m(\u001b[49m\u001b[43mformula\u001b[49m\u001b[43m)\u001b[49m)\n\u001b[1;32m      9\u001b[0m   \u001b[38;5;28;01mreturn\u001b[39;00m features_list\n",
      "Cell \u001b[0;32mIn[5], line 7\u001b[0m, in \u001b[0;36mfind_stoich\u001b[0;34m(formula)\u001b[0m\n\u001b[1;32m      1\u001b[0m \u001b[38;5;28;01mdef\u001b[39;00m \u001b[38;5;21mfind_stoich\u001b[39m(formula):\n\u001b[1;32m      2\u001b[0m \n\u001b[1;32m      3\u001b[0m   \u001b[38;5;66;03m# Returns a list with P0, P2, and P3 norms\u001b[39;00m\n\u001b[1;32m      5\u001b[0m   attributes_list \u001b[38;5;241m=\u001b[39m []\n\u001b[0;32m----> 7\u001b[0m   comp \u001b[38;5;241m=\u001b[39m \u001b[43mpmg\u001b[49m\u001b[38;5;241m.\u001b[39mComposition(formula)\n\u001b[1;32m      8\u001b[0m   num_elms \u001b[38;5;241m=\u001b[39m \u001b[38;5;28mlen\u001b[39m(comp\u001b[38;5;241m.\u001b[39melements)\n\u001b[1;32m      9\u001b[0m   attributes_list\u001b[38;5;241m.\u001b[39mappend(num_elms) \u001b[38;5;66;03m# P0 norm is number of elements\u001b[39;00m\n",
      "\u001b[0;31mNameError\u001b[0m: name 'pmg' is not defined"
     ]
    }
   ],
   "source": [
    "iron_oxide = find_features('Fe2O3')\n",
    "strontium_tin_oxide = find_features('SrTiO3')\n",
    "\n",
    "print(iron_oxide)\n",
    "print(strontium_tin_oxide)"
   ]
  }
 ],
 "metadata": {
  "kernelspec": {
   "display_name": "Python 3 (ipykernel)",
   "language": "python",
   "name": "python3"
  },
  "language_info": {
   "codemirror_mode": {
    "name": "ipython",
    "version": 3
   },
   "file_extension": ".py",
   "mimetype": "text/x-python",
   "name": "python",
   "nbconvert_exporter": "python",
   "pygments_lexer": "ipython3",
   "version": "3.9.6"
  }
 },
 "nbformat": 4,
 "nbformat_minor": 5
}
