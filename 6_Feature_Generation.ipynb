{
 "cells": [
  {
   "cell_type": "markdown",
   "id": "0a590191-8fce-494b-bac1-9382c792d6ea",
   "metadata": {},
   "source": [
    "## Jonathan Perkins\n",
    "## 4/18/2024\n",
    "## PH 418\n",
    "## HW 6"
   ]
  },
  {
   "cell_type": "markdown",
   "id": "688ba38b-fc8a-4745-9ae8-e35b1cc9f7a5",
   "metadata": {},
   "source": [
    "# Feature Generation"
   ]
  },
  {
   "cell_type": "markdown",
   "id": "bd8a7e57-7b61-4122-8586-46e1b9761f86",
   "metadata": {},
   "source": [
    "We will create machine learning models to predict material properties solely based on their\n",
    "chemical compositions. The first step is to create input features (or descriptors or attributes).\n",
    "We will follow the paper by Ward et al. in npj Computational Materials (2016) 2, 16028.\n",
    "The features are designed to enable machine learning algorithms to construct general rules\n",
    "that can possibly learn and reflect to some extent physical and chemical intuitions.\n",
    "Please write a python function with a single string variable of chemical formula (such as\n",
    "‘Fe2O3’) as the input argument. Upon completion, the function will return a list containing\n",
    "the following 60 features (floating point or integer values)"
   ]
  },
  {
   "cell_type": "markdown",
   "id": "4850f655-216b-4ebf-9457-49594571c957",
   "metadata": {},
   "source": [
    "# Imports"
   ]
  },
  {
   "cell_type": "code",
   "execution_count": 1,
   "id": "7ac9f852-75b1-4921-b6e9-0b1a47a0c9fb",
   "metadata": {},
   "outputs": [
    {
     "ename": "ModuleNotFoundError",
     "evalue": "No module named 'pymatgen'",
     "output_type": "error",
     "traceback": [
      "\u001b[0;31m---------------------------------------------------------------------------\u001b[0m",
      "\u001b[0;31mModuleNotFoundError\u001b[0m                       Traceback (most recent call last)",
      "Cell \u001b[0;32mIn[1], line 1\u001b[0m\n\u001b[0;32m----> 1\u001b[0m \u001b[38;5;28;01mimport\u001b[39;00m \u001b[38;5;21;01mpymatgen\u001b[39;00m\u001b[38;5;21;01m.\u001b[39;00m\u001b[38;5;21;01mcore\u001b[39;00m \u001b[38;5;28;01mas\u001b[39;00m \u001b[38;5;21;01mpmg\u001b[39;00m\n",
      "\u001b[0;31mModuleNotFoundError\u001b[0m: No module named 'pymatgen'"
     ]
    }
   ],
   "source": [
    "import pymatgen.core as pmg"
   ]
  }
 ],
 "metadata": {
  "kernelspec": {
   "display_name": "Python 3 (ipykernel)",
   "language": "python",
   "name": "python3"
  },
  "language_info": {
   "codemirror_mode": {
    "name": "ipython",
    "version": 3
   },
   "file_extension": ".py",
   "mimetype": "text/x-python",
   "name": "python",
   "nbconvert_exporter": "python",
   "pygments_lexer": "ipython3",
   "version": "3.9.6"
  }
 },
 "nbformat": 4,
 "nbformat_minor": 5
}
