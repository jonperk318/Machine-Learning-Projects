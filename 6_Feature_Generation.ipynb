{
 "cells": [
  {
   "cell_type": "markdown",
   "metadata": {
    "id": "qc-cRINcE0Os"
   },
   "source": [
    "## Jonathan Perkins\n",
    "## 4/18/2024"
   ]
  },
  {
   "cell_type": "markdown",
   "metadata": {
    "id": "xNJzjoDlE9Ar"
   },
   "source": [
    "# Feature generation"
   ]
  },
  {
   "cell_type": "markdown",
   "metadata": {
    "id": "QG0TC5nUFDv5"
   },
   "source": [
    "We will create machine learning models to predict material properties solely based on their\n",
    "chemical compositions. The first step is to create input features (or descriptors or attributes).\n",
    "We will follow the paper by Ward et al. in npj Computational Materials (2016) 2, 16028.\n",
    "The features are designed to enable machine learning algorithms to construct general rules\n",
    "that can possibly learn and reflect to some extent physical and chemical intuitions.\n",
    "Please write a python function with a single string variable of chemical formula (such as\n",
    "‘Fe2O3’) as the input argument. Upon completion, the function will return a list containing\n",
    "the following 60 features (floating point or integer values)"
   ]
  },
  {
   "cell_type": "markdown",
   "metadata": {
    "id": "1H34bcuKFGG9"
   },
   "source": [
    "# Imports"
   ]
  },
  {
   "cell_type": "code",
   "execution_count": 55,
   "metadata": {
    "id": "ptdEKiDsDB_t"
   },
   "outputs": [],
   "source": [
    "import pymatgen.core as pmg\n",
    "from pymatgen.core.periodic_table import Element\n",
    "import numpy as np\n",
    "import matplotlib.pyplot as plt\n",
    "import itertools"
   ]
  },
  {
   "cell_type": "markdown",
   "metadata": {
    "id": "JZsiY6PyFczk"
   },
   "source": [
    "# Creating input features"
   ]
  },
  {
   "cell_type": "code",
   "execution_count": 57,
   "metadata": {
    "id": "Z-ATgMbpF4vF"
   },
   "outputs": [],
   "source": [
    "# Valence electrons\n",
    "val_s = {'Fe':2, 'O':2, 'Sr':2, 'Ti':2}\n",
    "val_p = {'Fe':0, 'O':4, 'Sr':0, 'Ti':0}\n",
    "val_d = {'Fe':6, 'O':0, 'Sr':0, 'Ti':2}\n",
    "val_f = {'Fe':0, 'O':0, 'Sr':0, 'Ti':0}\n",
    "\n",
    "def find_features(formula):\n",
    "\n",
    "  # Uses all functions defined below to return a list of all 60 features\n",
    "\n",
    "  features_list = []\n",
    "\n",
    "  features_list.append(find_stoich(formula))\n",
    "  features_list.append(find_elemental_properties(formula))\n",
    "  features_list.append(find_val_orbs(formula, val_s, val_p, val_d, val_f))\n",
    "  features_list.append(find_ionic(formula))\n",
    "\n",
    "  return features_list"
   ]
  },
  {
   "cell_type": "markdown",
   "metadata": {
    "id": "U7UDa8gIJkkv"
   },
   "source": [
    "# a) Stoichiometric attributes"
   ]
  },
  {
   "cell_type": "code",
   "execution_count": 34,
   "metadata": {
    "colab": {
     "base_uri": "https://localhost:8080/"
    },
    "id": "tz55vd1BJrC8",
    "outputId": "d3d8127e-83e3-4073-a244-fb5d908c38be"
   },
   "outputs": [
    {
     "name": "stdout",
     "output_type": "stream",
     "text": [
      "Fe2O3:  [2, 0.7211102550927979, 0.6542132620377179]\n",
      "SrTiO3:  [3, 0.66332495807108, 0.6144633651371695]\n"
     ]
    }
   ],
   "source": [
    "def find_stoich(formula):\n",
    "\n",
    "  # Returns a list with P0, P2, and P3 norms\n",
    "\n",
    "  attributes_list = []\n",
    "\n",
    "  comp = pmg.Composition(formula)\n",
    "  num_elms = len(comp.elements)\n",
    "  attributes_list.append(num_elms) # P0 norm is number of elements\n",
    "\n",
    "  atom_frac_p2 = 0\n",
    "  atom_frac_p3 = 0\n",
    "  denom = 0\n",
    "\n",
    "  for i in range(num_elms): # First, find denominator value\n",
    "    num = comp[comp.elements[i-1]]\n",
    "    denom += num\n",
    "\n",
    "  for i in range(num_elms): # Then, calculate P2 and P3 norms\n",
    "    num = comp[comp.elements[i-1]]\n",
    "    atom_frac_p2 += (num/denom)**2\n",
    "    atom_frac_p3 += (num/denom)**3\n",
    "\n",
    "  atom_frac_p2 = atom_frac_p2**(1/2)\n",
    "  atom_frac_p3 = atom_frac_p3**(1/3)\n",
    "\n",
    "  attributes_list.append(atom_frac_p2)\n",
    "  attributes_list.append(atom_frac_p3)\n",
    "\n",
    "  return attributes_list\n",
    "\n",
    "# Test\n",
    "print('Fe2O3: ', find_stoich('Fe2O3'))\n",
    "print('SrTiO3: ', find_stoich('SrTiO3'))"
   ]
  },
  {
   "cell_type": "markdown",
   "metadata": {
    "id": "tw0pVu9rdPrB"
   },
   "source": [
    "# b) Elemental-property-based attributes"
   ]
  },
  {
   "cell_type": "code",
   "execution_count": 35,
   "metadata": {
    "colab": {
     "base_uri": "https://localhost:8080/"
    },
    "id": "isiFRk0FdbNk",
    "outputId": "e7b51f66-6635-45d3-a0e2-3e92335aa883"
   },
   "outputs": [
    {
     "name": "stdout",
     "output_type": "stream",
     "text": [
      "Fe2O3:  {'Z': {'min': 8, 'max': 26, 'range': 18, 'fraction-weighted mean': 4.8, 'average deviation': 1.92}, 'atomic_mass': {'min': 15.9994, 'max': 55.845, 'range': 39.8456, 'fraction-weighted mean': 9.599639999999999, 'average deviation': 3.839856}, 'atomic_radius': {'min': 0.6, 'max': 1.4, 'range': 0.7999999999999999, 'fraction-weighted mean': 0.36, 'average deviation': 0.144}, 'X': {'min': 1.83, 'max': 3.44, 'range': 1.6099999999999999, 'fraction-weighted mean': 2.064, 'average deviation': 0.8255999999999999}, 'column': {'min': 8, 'max': 16, 'range': 8, 'fraction-weighted mean': 9.6, 'average deviation': 3.84}, 'row': {'min': 2, 'max': 4, 'range': 2, 'fraction-weighted mean': 1.2, 'average deviation': 0.48}, 'val_s': {'min': 2, 'max': 2, 'range': 0, 'fraction-weighted mean': 1.2, 'average deviation': 0.48}, 'val_p': {'min': 0, 'max': 4, 'range': 4, 'fraction-weighted mean': 2.4, 'average deviation': 0.96}, 'val_d': {'min': 0, 'max': 6, 'range': 6, 'fraction-weighted mean': 0.0, 'average deviation': 0.0}, 'val_f': {'min': 0, 'max': 0, 'range': 0, 'fraction-weighted mean': 0.0, 'average deviation': 0.0}}\n",
      "SrTiO3:  {'Z': {'min': 8, 'max': 38, 'range': 30, 'fraction-weighted mean': 4.8, 'average deviation': 1.92}, 'atomic_mass': {'min': 15.9994, 'max': 87.62, 'range': 71.62060000000001, 'fraction-weighted mean': 9.599639999999999, 'average deviation': 3.839856}, 'atomic_radius': {'min': 0.6, 'max': 2.0, 'range': 1.4, 'fraction-weighted mean': 0.36, 'average deviation': 0.144}, 'X': {'min': 0.95, 'max': 3.44, 'range': 2.49, 'fraction-weighted mean': 2.064, 'average deviation': 0.8255999999999999}, 'column': {'min': 2, 'max': 16, 'range': 14, 'fraction-weighted mean': 9.6, 'average deviation': 3.84}, 'row': {'min': 2, 'max': 6, 'range': 4, 'fraction-weighted mean': 1.2, 'average deviation': 0.48}, 'val_s': {'min': 2, 'max': 2, 'range': 0, 'fraction-weighted mean': 1.2, 'average deviation': 0.48}, 'val_p': {'min': 0, 'max': 4, 'range': 4, 'fraction-weighted mean': 2.4, 'average deviation': 0.96}, 'val_d': {'min': 0, 'max': 2, 'range': 2, 'fraction-weighted mean': 0.0, 'average deviation': 0.0}, 'val_f': {'min': 0, 'max': 0, 'range': 0, 'fraction-weighted mean': 0.0, 'average deviation': 0.0}}\n"
     ]
    }
   ],
   "source": [
    "# Group numbers\n",
    "column = {'Fe':8, 'O':16, 'Sr':2, 'Ti':4}\n",
    "row = {'Fe':4, 'O':2, 'Sr':5, 'Ti':6}\n",
    "\n",
    "# Elemental properties\n",
    "properties = ['Z', 'atomic_mass', 'atomic_radius', 'X']\n",
    "custom_properties = {'column':column, 'row':row, 'val_s':val_s, 'val_p':val_p,\n",
    "                     'val_d':val_d, 'val_f':val_f}\n",
    "\n",
    "\n",
    "def stats(prop_name, prop_vals, atomic_fractions):\n",
    "\n",
    "  # Returns statistical values for each target property\n",
    "\n",
    "  for elm in prop_vals:\n",
    "    mean = np.sum([atomic_fractions[elm] * prop_vals[elm]])\n",
    "    dev = np.sum([atomic_fractions[elm] * abs(prop_vals[elm] - mean)])\n",
    "\n",
    "  min_val = min(prop_vals.values())\n",
    "  max_val = max(prop_vals.values())\n",
    "  range = max_val - min_val\n",
    "\n",
    "  return {prop_name: {'min':min_val, 'max':max_val, 'range':range,\n",
    "                          'fraction-weighted mean':mean, 'average deviation':dev}}\n",
    "\n",
    "\n",
    "def find_elemental_properties(formula):\n",
    "\n",
    "  # Returns a large dictionary with all elemental properties\n",
    "\n",
    "  comp = pmg.Composition(formula)\n",
    "\n",
    "  results = {}\n",
    "  atomic_fractions = {}\n",
    "  total_atoms = sum(comp.values())\n",
    "  for elm, count in comp.items():\n",
    "    atomic_fractions[elm] = count/total_atoms\n",
    "\n",
    "  # Calculating properties\n",
    "  for prop in properties:\n",
    "    prop_vals = {elm.symbol:getattr(elm, prop) for elm in comp.keys()}\n",
    "    results.update(stats(prop, prop_vals, {el.symbol:af for el, af in atomic_fractions.items()}))\n",
    "\n",
    "  # Calculating custom properties\n",
    "  for prop, dictionary in custom_properties.items():\n",
    "    prop_vals = {elm.symbol:dictionary[elm.symbol] for elm in comp.keys()}\n",
    "    results.update(stats(prop, prop_vals, {el.symbol: af for el, af in atomic_fractions.items()}))\n",
    "\n",
    "  return results\n",
    "\n",
    "# Test\n",
    "print('Fe2O3: ', find_elemental_properties('Fe2O3'))\n",
    "print('SrTiO3: ', find_elemental_properties('SrTiO3'))"
   ]
  },
  {
   "cell_type": "markdown",
   "metadata": {
    "id": "EujIhi_wJVLH"
   },
   "source": [
    "# c) Valence orbital occupation attributes"
   ]
  },
  {
   "cell_type": "code",
   "execution_count": 46,
   "metadata": {
    "colab": {
     "base_uri": "https://localhost:8080/"
    },
    "id": "_mwgBLmVJfR9",
    "outputId": "1db2d848-b7c9-4eef-d7fa-01fa54c79bd0"
   },
   "outputs": [
    {
     "name": "stdout",
     "output_type": "stream",
     "text": [
      "Fe2O3:  {'s': 0.29411764705882354, 'p': 0.35294117647058826, 'd': 0.3529411764705883, 'f': 0.0}\n",
      "SrTiO3:  {'s': 0.4166666666666667, 'p': 0.5, 'd': 0.08333333333333334, 'f': 0.0}\n"
     ]
    }
   ],
   "source": [
    "def find_val_orbs(formula, val_s, val_p, val_d, val_f):\n",
    "\n",
    "  # Returns dictionary with fraction-weighted average of the number of\n",
    "  # valence electrons in each orbital\n",
    "\n",
    "  comp = pmg.Composition(formula)\n",
    "  total_val_e = 0\n",
    "  val = {'s':0, 'p':0, 'd':0, 'f':0}\n",
    "\n",
    "  atomic_fractions = {}\n",
    "  total_atoms = sum(comp.values())\n",
    "  for elm, count in comp.items():\n",
    "    atomic_fractions[elm] = count/total_atoms\n",
    "\n",
    "  # Valence electrons and contributions from all orbital types\n",
    "  for elm, frac in atomic_fractions.items():\n",
    "    elm_symb = elm.symbol\n",
    "    total_val = (val_s[elm_symb] + val_p[elm_symb] + val_d[elm_symb] + val_f[elm_symb])\n",
    "    total_val_e += frac * total_val\n",
    "    val['s'] += frac * val_s[elm_symb]\n",
    "    val['p'] += frac * val_p[elm_symb]\n",
    "    val['d'] += frac * val_d[elm_symb]\n",
    "    val['f'] += frac * val_f[elm_symb]\n",
    "\n",
    "  orbital_fractions = {orbital:val[orbital] / total_val_e for orbital in val}\n",
    "\n",
    "  return orbital_fractions\n",
    "\n",
    "# Test\n",
    "print('Fe2O3: ', find_val_orbs('Fe2O3', val_s, val_p, val_d, val_f))\n",
    "print('SrTiO3: ', find_val_orbs('SrTiO3', val_s, val_p, val_d, val_f))"
   ]
  },
  {
   "cell_type": "markdown",
   "metadata": {
    "id": "93PM9WhPN1x5"
   },
   "source": [
    "# d) Ionic compound attributes"
   ]
  },
  {
   "cell_type": "code",
   "execution_count": 56,
   "metadata": {
    "colab": {
     "base_uri": "https://localhost:8080/"
    },
    "id": "iQAVxnr0N74I",
    "outputId": "6a235592-50d2-4609-9ab0-a88e1e391a31"
   },
   "outputs": [
    {
     "name": "stdout",
     "output_type": "stream",
     "text": [
      "Fe2O3 ionic features:  (True, 0.47692216400686216, 0.11446131936164691)\n",
      "SrTiO3 ionic features:  (True, 0.7877573323062756, 0.05639939070315526)\n"
     ]
    }
   ],
   "source": [
    "def find_ionic(formula):\n",
    "\n",
    "  # Returns the possibility of the compound being neutral, max ionic character,\n",
    "  # and mean ionic character\n",
    "\n",
    "  comp = pmg.Composition(formula)\n",
    "  elms = list(comp.elements)\n",
    "  max_ionic = 0\n",
    "  sum_ionic = 0\n",
    "  ionic_pairs = 0\n",
    "\n",
    "  # A single element will not form an ionic compound\n",
    "  if len(elms) ==1:\n",
    "    return False, max_ionic, 0\n",
    "\n",
    "  # Atomic fractions and oxidation states\n",
    "  total_atoms = sum(comp.get_el_amt_dict().values())\n",
    "  atomic_fractions = {elm.symbol:comp.get_el_amt_dict()[elm.symbol] / total_atoms for elm in elms}\n",
    "  oxidation_states = {elm.symbol:elm.common_oxidation_states for elm in elms}\n",
    "\n",
    "  for state_comb in itertools.product(*(oxidation_states[el] for el in oxidation_states)):\n",
    "    if np.isclose(sum(frac * state for frac, state in zip(atomic_fractions.values(), state_comb)), 0 , atol=1e-3):\n",
    "      possible_neutral = True\n",
    "      break\n",
    "\n",
    "  for i in range(len(elms)):\n",
    "    for j in range(i + 1, len(elms)):\n",
    "      Xi = elms[i].X\n",
    "      Xj = elms[j].X\n",
    "      ionic_char = 1 - np.exp(-(Xi-Xj)**2 / 4)\n",
    "      max_ionic = max(max_ionic, ionic_char)\n",
    "      sum_ionic += (atomic_fractions[elms[i].symbol] * atomic_fractions[elms[j].symbol] * ionic_char)\n",
    "      ionic_pairs += 1\n",
    "\n",
    "\n",
    "  mean_ionic_char = sum_ionic / ionic_pairs if ionic_pairs > 0 else 0\n",
    "\n",
    "  return possible_neutral, max_ionic, mean_ionic_char\n",
    "\n",
    "# Test\n",
    "print('Fe2O3 ionic features: ', find_ionic('Fe2O3'))\n",
    "print('SrTiO3 ionic features: ', find_ionic('SrTiO3'))"
   ]
  },
  {
   "cell_type": "markdown",
   "metadata": {
    "id": "XGSL-UVIUbfD"
   },
   "source": [
    "# Test"
   ]
  },
  {
   "cell_type": "code",
   "execution_count": 58,
   "metadata": {
    "colab": {
     "base_uri": "https://localhost:8080/"
    },
    "id": "Lwb0CSIsI9Hy",
    "outputId": "6071b958-3207-4a38-98de-b03e7a80f6f4"
   },
   "outputs": [
    {
     "name": "stdout",
     "output_type": "stream",
     "text": [
      "Fe2O3 attributes \n",
      "\n",
      "[2, 0.7211102550927979, 0.6542132620377179] \n",
      "\n",
      "{'Z': {'min': 8, 'max': 26, 'range': 18, 'fraction-weighted mean': 4.8, 'average deviation': 1.92}, 'atomic_mass': {'min': 15.9994, 'max': 55.845, 'range': 39.8456, 'fraction-weighted mean': 9.599639999999999, 'average deviation': 3.839856}, 'atomic_radius': {'min': 0.6, 'max': 1.4, 'range': 0.7999999999999999, 'fraction-weighted mean': 0.36, 'average deviation': 0.144}, 'X': {'min': 1.83, 'max': 3.44, 'range': 1.6099999999999999, 'fraction-weighted mean': 2.064, 'average deviation': 0.8255999999999999}, 'column': {'min': 8, 'max': 16, 'range': 8, 'fraction-weighted mean': 9.6, 'average deviation': 3.84}, 'row': {'min': 2, 'max': 4, 'range': 2, 'fraction-weighted mean': 1.2, 'average deviation': 0.48}, 'val_s': {'min': 2, 'max': 2, 'range': 0, 'fraction-weighted mean': 1.2, 'average deviation': 0.48}, 'val_p': {'min': 0, 'max': 4, 'range': 4, 'fraction-weighted mean': 2.4, 'average deviation': 0.96}, 'val_d': {'min': 0, 'max': 6, 'range': 6, 'fraction-weighted mean': 0.0, 'average deviation': 0.0}, 'val_f': {'min': 0, 'max': 0, 'range': 0, 'fraction-weighted mean': 0.0, 'average deviation': 0.0}} \n",
      "\n",
      "{'s': 0.29411764705882354, 'p': 0.35294117647058826, 'd': 0.3529411764705883, 'f': 0.0} \n",
      "\n",
      "(True, 0.47692216400686216, 0.11446131936164691) \n",
      "\n",
      "\n",
      " SrTiO3 attributes \n",
      "\n",
      "[3, 0.66332495807108, 0.6144633651371695] \n",
      "\n",
      "{'Z': {'min': 8, 'max': 38, 'range': 30, 'fraction-weighted mean': 4.8, 'average deviation': 1.92}, 'atomic_mass': {'min': 15.9994, 'max': 87.62, 'range': 71.62060000000001, 'fraction-weighted mean': 9.599639999999999, 'average deviation': 3.839856}, 'atomic_radius': {'min': 0.6, 'max': 2.0, 'range': 1.4, 'fraction-weighted mean': 0.36, 'average deviation': 0.144}, 'X': {'min': 0.95, 'max': 3.44, 'range': 2.49, 'fraction-weighted mean': 2.064, 'average deviation': 0.8255999999999999}, 'column': {'min': 2, 'max': 16, 'range': 14, 'fraction-weighted mean': 9.6, 'average deviation': 3.84}, 'row': {'min': 2, 'max': 6, 'range': 4, 'fraction-weighted mean': 1.2, 'average deviation': 0.48}, 'val_s': {'min': 2, 'max': 2, 'range': 0, 'fraction-weighted mean': 1.2, 'average deviation': 0.48}, 'val_p': {'min': 0, 'max': 4, 'range': 4, 'fraction-weighted mean': 2.4, 'average deviation': 0.96}, 'val_d': {'min': 0, 'max': 2, 'range': 2, 'fraction-weighted mean': 0.0, 'average deviation': 0.0}, 'val_f': {'min': 0, 'max': 0, 'range': 0, 'fraction-weighted mean': 0.0, 'average deviation': 0.0}} \n",
      "\n",
      "{'s': 0.4166666666666667, 'p': 0.5, 'd': 0.08333333333333334, 'f': 0.0} \n",
      "\n",
      "(True, 0.7877573323062756, 0.05639939070315526) \n",
      "\n"
     ]
    }
   ],
   "source": [
    "iron_oxide = find_features('Fe2O3')\n",
    "strontium_tin_oxide = find_features('SrTiO3')\n",
    "\n",
    "print('Fe2O3 attributes', '\\n')\n",
    "for i in iron_oxide:\n",
    "  print(i, '\\n')\n",
    "\n",
    "print('\\n', 'SrTiO3 attributes', '\\n')\n",
    "for i in strontium_tin_oxide:\n",
    "  print(i, '\\n')"
   ]
  }
 ],
 "metadata": {
  "colab": {
   "provenance": []
  },
  "kernelspec": {
   "display_name": "Python 3 (ipykernel)",
   "language": "python",
   "name": "python3"
  },
  "language_info": {
   "codemirror_mode": {
    "name": "ipython",
    "version": 3
   },
   "file_extension": ".py",
   "mimetype": "text/x-python",
   "name": "python",
   "nbconvert_exporter": "python",
   "pygments_lexer": "ipython3",
   "version": "3.9.6"
  }
 },
 "nbformat": 4,
 "nbformat_minor": 4
}
